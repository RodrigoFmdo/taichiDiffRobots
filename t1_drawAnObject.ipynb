{
 "cells": [
  {
   "cell_type": "markdown",
   "metadata": {},
   "source": [
    "We´re going to train a robot to walk in a differentiable simulator.\n",
    "\n",
    "Using taichi that is a differentiable programming language"
   ]
  },
  {
   "cell_type": "code",
   "execution_count": 2,
   "metadata": {},
   "outputs": [
    {
     "name": "stdout",
     "output_type": "stream",
     "text": [
      "[Taichi] version 1.7.2, llvm 15.0.7, commit 0131dce9, osx, python 3.12.3\n"
     ]
    },
    {
     "name": "stderr",
     "output_type": "stream",
     "text": [
      "[I 10/11/24 21:32:59.048 5890513] [shell.py:_shell_pop_print@23] Graphical python shell detected, using wrapped sys.stdout\n"
     ]
    }
   ],
   "source": [
    "import taichi as ti\n",
    "import matplotlib.pyplot as pyplot\n",
    "import matplotlib.image as pltimg\n",
    "import os"
   ]
  },
  {
   "cell_type": "code",
   "execution_count": 24,
   "metadata": {},
   "outputs": [
    {
     "name": "stdout",
     "output_type": "stream",
     "text": [
      "[Taichi] Starting on arch=arm64\n"
     ]
    }
   ],
   "source": [
    "# INICIALIZATION\n",
    "\n",
    "max_steps = 10\n",
    "dt = 0.01\n",
    "\n",
    "#ground height = 0.1 mts \n",
    "ground_height = 0.1\n",
    "startingObjectPositions = []\n",
    "startingObjectPositions.append([0.1, 0.2])\n",
    "\n",
    "n_objects = len(startingObjectPositions)\n",
    "\n",
    "\n",
    "#each position is a vector of lenght 2 real values, and a matrix of maxsteps x n_objects will store each position for each object in each timestep.\n",
    "real = ti.f32\n",
    "\n",
    "ti.init(default_fp=real)\n",
    "vec = lambda: ti.Vector.field(2, dtype=real)\n",
    "positions= vec()\n",
    "ti.root.dense(ti.i, max_steps).dense(ti.j, n_objects).place(positions)\n",
    "\n",
    "#Velocities\n",
    "\n",
    "velocities = vec()\n",
    "ti.root.dense(ti.i, max_steps).dense(ti.j, n_objects).place(velocities)\n",
    "\n",
    "# print(positions)\n",
    "#Taichi GUI\n",
    "gui = ti.GUI(\"Robot\", (512,512), background_color = 0xFFFFFF, show_gui = False)"
   ]
  },
  {
   "cell_type": "code",
   "execution_count": 25,
   "metadata": {},
   "outputs": [],
   "source": [
    "def Initialize():\n",
    "    for objectIndex in range(n_objects):\n",
    "        positions[0,objectIndex] = startingObjectPositions[objectIndex]\n",
    "        velocities[0,objectIndex] = [0,-0.1]"
   ]
  },
  {
   "cell_type": "code",
   "execution_count": 26,
   "metadata": {},
   "outputs": [],
   "source": [
    "# DRAW FRAMES\n",
    "def Draw():\n",
    "    for timeStep in range(max_steps):\n",
    "    # create floor and a circle\n",
    "        gui.line(begin = (0, ground_height),\n",
    "                 end = (1, ground_height), \n",
    "                 color = 0x0, \n",
    "                 radius = 3 )\n",
    "\n",
    "        for i in range(n_objects) : \n",
    "            x = positions[timeStep,i][0]\n",
    "            y = positions[timeStep,i][1]\n",
    "            gui.circle((x,y), color= 0x0, radius= 7) \n",
    "\n",
    "        gui.show('frame' + str(timeStep) + '.png')    "
   ]
  },
  {
   "cell_type": "code",
   "execution_count": 27,
   "metadata": {},
   "outputs": [],
   "source": [
    "def Simulate():\n",
    "    for step in range(1,max_steps):\n",
    "        for objectIndex in range(n_objects):\n",
    "            oldPosition= positions[step-1, objectIndex] \n",
    "            oldVelocity = velocities[step-1,objectIndex]\n",
    "            newPosition= oldPosition + dt * oldVelocity\n",
    "\n",
    "            positions[step, objectIndex] = newPosition\n",
    "            \n",
    "            newVelocity = oldVelocity\n",
    "            velocities[step, objectIndex] = newVelocity"
   ]
  },
  {
   "cell_type": "code",
   "execution_count": 30,
   "metadata": {},
   "outputs": [],
   "source": [
    "#CONCATENATE FRAMES INTO A VIDEO \n",
    "def makeMovie():\n",
    "    #pyplot.imshow(pltimg.imread('ground.png'))\n",
    "    os.system(\"rm movie.mp4\")\n",
    "    os.system(\"ffmpeg -i frame%d.png movie.mp4\")"
   ]
  },
  {
   "cell_type": "code",
   "execution_count": 33,
   "metadata": {},
   "outputs": [
    {
     "name": "stdout",
     "output_type": "stream",
     "text": [
      "[[[0.1        0.2       ]]\n",
      "\n",
      " [[0.1        0.199     ]]\n",
      "\n",
      " [[0.1        0.198     ]]\n",
      "\n",
      " [[0.1        0.197     ]]\n",
      "\n",
      " [[0.1        0.196     ]]\n",
      "\n",
      " [[0.1        0.195     ]]\n",
      "\n",
      " [[0.1        0.19399999]]\n",
      "\n",
      " [[0.1        0.19299999]]\n",
      "\n",
      " [[0.1        0.19199999]]\n",
      "\n",
      " [[0.1        0.19099998]]]\n",
      "[[[ 0.  -0.1]]\n",
      "\n",
      " [[ 0.  -0.1]]\n",
      "\n",
      " [[ 0.  -0.1]]\n",
      "\n",
      " [[ 0.  -0.1]]\n",
      "\n",
      " [[ 0.  -0.1]]\n",
      "\n",
      " [[ 0.  -0.1]]\n",
      "\n",
      " [[ 0.  -0.1]]\n",
      "\n",
      " [[ 0.  -0.1]]\n",
      "\n",
      " [[ 0.  -0.1]]\n",
      "\n",
      " [[ 0.  -0.1]]]\n"
     ]
    },
    {
     "name": "stderr",
     "output_type": "stream",
     "text": [
      "ffmpeg version 7.0.2 Copyright (c) 2000-2024 the FFmpeg developers\n",
      "  built with Apple clang version 15.0.0 (clang-1500.3.9.4)\n",
      "  configuration: --prefix=/opt/homebrew/Cellar/ffmpeg/7.0.2 --enable-shared --enable-pthreads --enable-version3 --cc=clang --host-cflags= --host-ldflags='-Wl,-ld_classic' --enable-ffplay --enable-gnutls --enable-gpl --enable-libaom --enable-libaribb24 --enable-libbluray --enable-libdav1d --enable-libharfbuzz --enable-libjxl --enable-libmp3lame --enable-libopus --enable-librav1e --enable-librist --enable-librubberband --enable-libsnappy --enable-libsrt --enable-libssh --enable-libsvtav1 --enable-libtesseract --enable-libtheora --enable-libvidstab --enable-libvmaf --enable-libvorbis --enable-libvpx --enable-libwebp --enable-libx264 --enable-libx265 --enable-libxml2 --enable-libxvid --enable-lzma --enable-libfontconfig --enable-libfreetype --enable-frei0r --enable-libass --enable-libopencore-amrnb --enable-libopencore-amrwb --enable-libopenjpeg --enable-libspeex --enable-libsoxr --enable-libzmq --enable-libzimg --disable-libjack --disable-indev=jack --enable-videotoolbox --enable-audiotoolbox --enable-neon\n",
      "  libavutil      59.  8.100 / 59.  8.100\n",
      "  libavcodec     61.  3.100 / 61.  3.100\n",
      "  libavformat    61.  1.100 / 61.  1.100\n",
      "  libavdevice    61.  1.100 / 61.  1.100\n",
      "  libavfilter    10.  1.100 / 10.  1.100\n",
      "  libswscale      8.  1.100 /  8.  1.100\n",
      "  libswresample   5.  1.100 /  5.  1.100\n",
      "  libpostproc    58.  1.100 / 58.  1.100\n",
      "Input #0, image2, from 'frame%d.png':\n",
      "  Duration: 00:00:00.40, start: 0.000000, bitrate: N/A\n",
      "  Stream #0:0: Video: png, rgb24(pc, gbr/unknown/unknown), 512x512, 25 fps, 25 tbr, 25 tbn\n",
      "Stream mapping:\n",
      "  Stream #0:0 -> #0:0 (png (native) -> h264 (libx264))\n",
      "Press [q] to stop, [?] for help\n",
      "[libx264 @ 0x13e706cd0] using cpu capabilities: ARMv8 NEON\n",
      "[libx264 @ 0x13e706cd0] profile High 4:4:4 Predictive, level 3.0, 4:4:4, 8-bit\n",
      "[libx264 @ 0x13e706cd0] 264 - core 164 r3108 31e19f9 - H.264/MPEG-4 AVC codec - Copyleft 2003-2023 - http://www.videolan.org/x264.html - options: cabac=1 ref=3 deblock=1:0:0 analyse=0x3:0x113 me=hex subme=7 psy=1 psy_rd=1.00:0.00 mixed_ref=1 me_range=16 chroma_me=1 trellis=1 8x8dct=1 cqm=0 deadzone=21,11 fast_pskip=1 chroma_qp_offset=4 threads=12 lookahead_threads=2 sliced_threads=0 nr=0 decimate=1 interlaced=0 bluray_compat=0 constrained_intra=0 bframes=3 b_pyramid=2 b_adapt=1 b_bias=0 direct=1 weightb=1 open_gop=0 weightp=2 keyint=250 keyint_min=25 scenecut=40 intra_refresh=0 rc_lookahead=40 rc=crf mbtree=1 crf=23.0 qcomp=0.60 qpmin=0 qpmax=69 qpstep=4 ip_ratio=1.40 aq=1:1.00\n",
      "Output #0, mp4, to 'movie.mp4':\n",
      "  Metadata:\n",
      "    encoder         : Lavf61.1.100\n",
      "  Stream #0:0: Video: h264 (avc1 / 0x31637661), yuv444p(progressive), 512x512, q=2-31, 25 fps, 12800 tbn\n",
      "      Metadata:\n",
      "        encoder         : Lavc61.3.100 libx264\n",
      "      Side data:\n",
      "        cpb: bitrate max/min/avg: 0/0/0 buffer size: 0 vbv_delay: N/A\n",
      "[out#0/mp4 @ 0x13f121600] video:1KiB audio:0KiB subtitle:0KiB other streams:0KiB global headers:0KiB muxing overhead: 77.760127%\n",
      "frame=   10 fps=0.0 q=-1.0 Lsize=       2KiB time=00:00:00.32 bitrate=  56.0kbits/s speed=12.3x    \n",
      "[libx264 @ 0x13e706cd0] frame I:1     Avg QP:10.74  size:   245\n",
      "[libx264 @ 0x13e706cd0] frame P:3     Avg QP:12.37  size:    44\n",
      "[libx264 @ 0x13e706cd0] frame B:6     Avg QP:15.34  size:    32\n",
      "[libx264 @ 0x13e706cd0] consecutive B-frames: 20.0%  0.0%  0.0% 80.0%\n",
      "[libx264 @ 0x13e706cd0] mb I  I16..4:  6.3% 93.4%  0.3%\n",
      "[libx264 @ 0x13e706cd0] mb P  I16..4:  0.1%  0.0%  0.0%  P16..4:  0.3%  0.0%  0.0%  0.0%  0.0%    skip:99.6%\n",
      "[libx264 @ 0x13e706cd0] mb B  I16..4:  0.0%  0.0%  0.0%  B16..8:  0.3%  0.0%  0.0%  direct: 0.0%  skip:99.6%  L0:28.3% L1:67.4% BI: 4.3%\n",
      "[libx264 @ 0x13e706cd0] 8x8 transform intra:93.0% inter:28.6%\n",
      "[libx264 @ 0x13e706cd0] coded y,u,v intra: 0.2% 0.0% 0.0% inter: 0.0% 0.0% 0.0%\n",
      "[libx264 @ 0x13e706cd0] i16 v,h,dc,p:  6% 93%  1%  0%\n",
      "[libx264 @ 0x13e706cd0] i8 v,h,dc,ddl,ddr,vr,hd,vl,hu:  9%  0% 91%  0%  0%  0%  0%  0%  0%\n",
      "[libx264 @ 0x13e706cd0] i4 v,h,dc,ddl,ddr,vr,hd,vl,hu: 19% 17% 54%  2%  2%  2%  4%  0%  0%\n",
      "[libx264 @ 0x13e706cd0] Weighted P-Frames: Y:0.0% UV:0.0%\n",
      "[libx264 @ 0x13e706cd0] kb/s:11.40\n"
     ]
    }
   ],
   "source": [
    "#MAIN\n",
    "Initialize()\n",
    "Draw()\n",
    "Simulate()\n",
    "#print(positions)\n",
    "#print(velocities)\n",
    "makeMovie()"
   ]
  }
 ],
 "metadata": {
  "kernelspec": {
   "display_name": "ludobots",
   "language": "python",
   "name": "python3"
  },
  "language_info": {
   "codemirror_mode": {
    "name": "ipython",
    "version": 3
   },
   "file_extension": ".py",
   "mimetype": "text/x-python",
   "name": "python",
   "nbconvert_exporter": "python",
   "pygments_lexer": "ipython3",
   "version": "3.12.3"
  }
 },
 "nbformat": 4,
 "nbformat_minor": 2
}
